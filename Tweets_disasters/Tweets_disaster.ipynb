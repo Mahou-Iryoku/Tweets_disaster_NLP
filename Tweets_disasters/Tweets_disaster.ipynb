{
 "cells": [
  {
   "cell_type": "markdown",
   "metadata": {},
   "source": [
    "## Load Datasets"
   ]
  },
  {
   "cell_type": "code",
   "execution_count": 2,
   "metadata": {},
   "outputs": [],
   "source": [
    "import pandas as pd\n",
    "train_df = pd.read_csv('train.csv') \n",
    "test_df = pd.read_csv('test.csv') "
   ]
  },
  {
   "cell_type": "markdown",
   "metadata": {},
   "source": [
    "### Suppression des colonnes inutiles"
   ]
  },
  {
   "cell_type": "code",
   "execution_count": 3,
   "metadata": {},
   "outputs": [],
   "source": [
    "train_df = train_df.drop(['keyword','location'],axis=1)\n",
    "test_df = test_df.drop(['keyword','location'],axis=1)"
   ]
  },
  {
   "cell_type": "code",
   "execution_count": 4,
   "metadata": {},
   "outputs": [
    {
     "data": {
      "text/html": [
       "<div>\n",
       "<style scoped>\n",
       "    .dataframe tbody tr th:only-of-type {\n",
       "        vertical-align: middle;\n",
       "    }\n",
       "\n",
       "    .dataframe tbody tr th {\n",
       "        vertical-align: top;\n",
       "    }\n",
       "\n",
       "    .dataframe thead th {\n",
       "        text-align: right;\n",
       "    }\n",
       "</style>\n",
       "<table border=\"1\" class=\"dataframe\">\n",
       "  <thead>\n",
       "    <tr style=\"text-align: right;\">\n",
       "      <th></th>\n",
       "      <th>id</th>\n",
       "      <th>text</th>\n",
       "      <th>target</th>\n",
       "    </tr>\n",
       "  </thead>\n",
       "  <tbody>\n",
       "    <tr>\n",
       "      <th>0</th>\n",
       "      <td>1</td>\n",
       "      <td>Our Deeds are the Reason of this #earthquake M...</td>\n",
       "      <td>1</td>\n",
       "    </tr>\n",
       "    <tr>\n",
       "      <th>1</th>\n",
       "      <td>4</td>\n",
       "      <td>Forest fire near La Ronge Sask. Canada</td>\n",
       "      <td>1</td>\n",
       "    </tr>\n",
       "    <tr>\n",
       "      <th>2</th>\n",
       "      <td>5</td>\n",
       "      <td>All residents asked to 'shelter in place' are ...</td>\n",
       "      <td>1</td>\n",
       "    </tr>\n",
       "    <tr>\n",
       "      <th>3</th>\n",
       "      <td>6</td>\n",
       "      <td>13,000 people receive #wildfires evacuation or...</td>\n",
       "      <td>1</td>\n",
       "    </tr>\n",
       "    <tr>\n",
       "      <th>4</th>\n",
       "      <td>7</td>\n",
       "      <td>Just got sent this photo from Ruby #Alaska as ...</td>\n",
       "      <td>1</td>\n",
       "    </tr>\n",
       "  </tbody>\n",
       "</table>\n",
       "</div>"
      ],
      "text/plain": [
       "   id                                               text  target\n",
       "0   1  Our Deeds are the Reason of this #earthquake M...       1\n",
       "1   4             Forest fire near La Ronge Sask. Canada       1\n",
       "2   5  All residents asked to 'shelter in place' are ...       1\n",
       "3   6  13,000 people receive #wildfires evacuation or...       1\n",
       "4   7  Just got sent this photo from Ruby #Alaska as ...       1"
      ]
     },
     "execution_count": 4,
     "metadata": {},
     "output_type": "execute_result"
    }
   ],
   "source": [
    "train_df.head()"
   ]
  },
  {
   "cell_type": "code",
   "execution_count": 5,
   "metadata": {},
   "outputs": [
    {
     "data": {
      "text/html": [
       "<div>\n",
       "<style scoped>\n",
       "    .dataframe tbody tr th:only-of-type {\n",
       "        vertical-align: middle;\n",
       "    }\n",
       "\n",
       "    .dataframe tbody tr th {\n",
       "        vertical-align: top;\n",
       "    }\n",
       "\n",
       "    .dataframe thead th {\n",
       "        text-align: right;\n",
       "    }\n",
       "</style>\n",
       "<table border=\"1\" class=\"dataframe\">\n",
       "  <thead>\n",
       "    <tr style=\"text-align: right;\">\n",
       "      <th></th>\n",
       "      <th>id</th>\n",
       "      <th>text</th>\n",
       "    </tr>\n",
       "  </thead>\n",
       "  <tbody>\n",
       "    <tr>\n",
       "      <th>0</th>\n",
       "      <td>0</td>\n",
       "      <td>Just happened a terrible car crash</td>\n",
       "    </tr>\n",
       "    <tr>\n",
       "      <th>1</th>\n",
       "      <td>2</td>\n",
       "      <td>Heard about #earthquake is different cities, s...</td>\n",
       "    </tr>\n",
       "    <tr>\n",
       "      <th>2</th>\n",
       "      <td>3</td>\n",
       "      <td>there is a forest fire at spot pond, geese are...</td>\n",
       "    </tr>\n",
       "    <tr>\n",
       "      <th>3</th>\n",
       "      <td>9</td>\n",
       "      <td>Apocalypse lighting. #Spokane #wildfires</td>\n",
       "    </tr>\n",
       "    <tr>\n",
       "      <th>4</th>\n",
       "      <td>11</td>\n",
       "      <td>Typhoon Soudelor kills 28 in China and Taiwan</td>\n",
       "    </tr>\n",
       "  </tbody>\n",
       "</table>\n",
       "</div>"
      ],
      "text/plain": [
       "   id                                               text\n",
       "0   0                 Just happened a terrible car crash\n",
       "1   2  Heard about #earthquake is different cities, s...\n",
       "2   3  there is a forest fire at spot pond, geese are...\n",
       "3   9           Apocalypse lighting. #Spokane #wildfires\n",
       "4  11      Typhoon Soudelor kills 28 in China and Taiwan"
      ]
     },
     "execution_count": 5,
     "metadata": {},
     "output_type": "execute_result"
    }
   ],
   "source": [
    "test_df.head()"
   ]
  },
  {
   "cell_type": "code",
   "execution_count": 6,
   "metadata": {},
   "outputs": [
    {
     "data": {
      "text/plain": [
       "target\n",
       "0    4342\n",
       "1    3271\n",
       "dtype: int64"
      ]
     },
     "execution_count": 6,
     "metadata": {},
     "output_type": "execute_result"
    }
   ],
   "source": [
    "train_df.groupby('target').size()"
   ]
  },
  {
   "cell_type": "code",
   "execution_count": 7,
   "metadata": {},
   "outputs": [
    {
     "name": "stdout",
     "output_type": "stream",
     "text": [
      "<class 'pandas.core.frame.DataFrame'>\n",
      "RangeIndex: 7613 entries, 0 to 7612\n",
      "Data columns (total 3 columns):\n",
      " #   Column  Non-Null Count  Dtype \n",
      "---  ------  --------------  ----- \n",
      " 0   id      7613 non-null   int64 \n",
      " 1   text    7613 non-null   object\n",
      " 2   target  7613 non-null   int64 \n",
      "dtypes: int64(2), object(1)\n",
      "memory usage: 178.6+ KB\n"
     ]
    }
   ],
   "source": [
    "train_df.info()"
   ]
  },
  {
   "cell_type": "code",
   "execution_count": 8,
   "metadata": {},
   "outputs": [
    {
     "name": "stdout",
     "output_type": "stream",
     "text": [
      "<class 'pandas.core.frame.DataFrame'>\n",
      "RangeIndex: 3263 entries, 0 to 3262\n",
      "Data columns (total 2 columns):\n",
      " #   Column  Non-Null Count  Dtype \n",
      "---  ------  --------------  ----- \n",
      " 0   id      3263 non-null   int64 \n",
      " 1   text    3263 non-null   object\n",
      "dtypes: int64(1), object(1)\n",
      "memory usage: 51.1+ KB\n"
     ]
    }
   ],
   "source": [
    "test_df.info()"
   ]
  },
  {
   "cell_type": "code",
   "execution_count": 9,
   "metadata": {},
   "outputs": [],
   "source": [
    "import re\n",
    "import unidecode\n",
    "from spacy.lang.en.stop_words import STOP_WORDS as en_stop #Spacy stopwords\n",
    "from nltk.stem import WordNetLemmatizer"
   ]
  },
  {
   "cell_type": "markdown",
   "metadata": {},
   "source": [
    "### Text Processing"
   ]
  },
  {
   "cell_type": "code",
   "execution_count": 10,
   "metadata": {},
   "outputs": [],
   "source": [
    "def remove_emoji():\n",
    "  regrex_pattern = re.compile(pattern = \"[\"    #Pattern pour enlever les emojis\n",
    "          u\"\\U0001F600-\\U0001F64F\"  # emoticons\n",
    "          u\"\\U0001F300-\\U0001F5FF\"  # symbols & pictographs\n",
    "          u\"\\U0001F680-\\U0001F6FF\"  # transport & map symbols\n",
    "          u\"\\U0001F1E0-\\U0001F1FF\"  # flags (iOS)\n",
    "          u\"\\U00002702-\\U000027B0\"\n",
    "          u\"\\U00002702-\\U000027B0\"\n",
    "          u\"\\U000024C2-\\U0001F251\"\n",
    "          u\"\\U0001f926-\\U0001f937\"\n",
    "          u\"\\U00010000-\\U0010ffff\"\n",
    "          u\"\\u2640-\\u2642\" \n",
    "          u\"\\u2600-\\u2B55\"\n",
    "          u\"\\u200d\"\n",
    "          u\"\\u23cf\"\n",
    "          u\"\\u23e9\"\n",
    "          u\"\\u231a\"\n",
    "          u\"\\ufe0f\"  # dingbats\n",
    "          u\"\\u3030\"\n",
    "                            \"]+\", flags = re.UNICODE)\n",
    "  return regrex_pattern\n",
    " \n",
    "def lematize(text):\n",
    "  lemmatizer = WordNetLemmatizer()\n",
    "  return \" \".join([lemmatizer.lemmatize(word) for word in text.split()])\n",
    "\n",
    "def remove_stopwords(text):\n",
    "  stopwords = \" \".join([word for word in str(text).split() if word not in en_stop]) #Spacy stopwords\n",
    "  return stopwords\n",
    "\n",
    "def remove_words(text):\n",
    "  liste_terme = [\"ve\",\"n\",\"s\",\"d\",\"l\",\"j\",\"y\",\"c\",\"e\",\"m\",\"h\",\"quelqu\",\"cht\",\"lr\",\"oas\",\"qu\",\"ll\",\"yu\",\"an\",\"g\",\"don t\"]\n",
    "  return \" \".join([word for word in str(text).split() if word not in liste_terme])\n",
    "\n",
    "def remove_accents(text):\n",
    "  return unidecode.unidecode(text)\n",
    "    \n",
    "def final_preprocess(text): \n",
    "    text = text.lower()  #Mettre tout les mots en minuscule \n",
    "    text = re.compile('<.*?>').sub('', text)\n",
    "    text = text.replace('_',' ')\n",
    "    text = re.sub(r'\\[[0-9]*\\]',' ',text)\n",
    "    text = re.sub(r'{link}', '',text) #Remove links \n",
    "    text = re.sub(r\"\\[video\\]\", '',text) #Remove videos\n",
    "    text = re.sub(r'&[a-z]+;', '',text) #Remove HTML references\n",
    "    text = re.sub(r'@mention', '',text) #Remove Twitters handles @\n",
    "    text = re.sub(r'\\d+', '', text) #Remove numbers \n",
    "    text = re.sub(r'http\\S+', '',text) #Remove HTML\n",
    "    text = re.sub(r'www\\S+', '',text) #Remove HTML\n",
    "    text = re.sub(r'[^\\w\\s]+',' ',text) #Remove ponctuation et apostrophes\n",
    "    text = re.sub(remove_emoji(),'',text)  #Remove les emojis\n",
    "    text = lematize(text) #Lemmatization\n",
    "    text = remove_accents(text) #Remove accents\n",
    "    text = remove_stopwords(text) #Remove stopwords\n",
    "    text = remove_words(text) #Remove custom words \n",
    "    return text "
   ]
  },
  {
   "cell_type": "code",
   "execution_count": 11,
   "metadata": {},
   "outputs": [
    {
     "name": "stdout",
     "output_type": "stream",
     "text": [
      "{'whereafter', 'moreover', 'he', 'nowhere', 'our', 'several', 'anything', '‘m', 'am', 'most', 'hence', 'perhaps', 'though', '‘re', 'those', 're', 'not', 'someone', 'onto', 'out', 'go', 'part', 'did', 'only', 'three', 'ca', 'before', \"'ll\", 'wherein', 'himself', 'next', 'really', 'these', 'elsewhere', 'you', 'she', 'everything', 'herein', 'have', 'others', 'still', 'thus', 'up', 'various', 'therein', 'never', 'due', 'give', 'but', 'around', 'quite', 'his', 'n’t', 'noone', 'whereupon', 'as', 'down', 'another', 'us', 'with', 'then', 'beforehand', 'any', 'own', 'although', 'thru', 'your', 'via', 'behind', 'too', 'in', 'yourselves', 'anyone', 'this', 'whom', 'two', 'over', 'each', 'by', 'whereas', 'sixty', 'latterly', 'off', 'there', 'him', 'whatever', 'now', 'me', 'do', '’s', 'sometimes', 'beyond', 'the', 'whole', 'formerly', 'throughout', '’d', 'first', 'nor', 'through', 'become', 'twelve', 'using', 'some', 'while', '’re', 'since', 'we', 'also', 'along', 'somewhere', 'even', 'beside', 'bottom', 'among', 'myself', 'else', 'amount', 'sometime', 'nevertheless', 'how', 'serious', 'fifty', \"'ve\", 'used', 'doing', 'yourself', 'of', 'it', '’ve', 'until', 'yours', 'herself', 'besides', 'somehow', 'rather', 'whence', 'thereafter', 'otherwise', 'wherever', 'third', 'enough', 'very', 'between', 'might', \"'m\", 'will', 'may', 'always', 'seems', 'just', 'see', 'show', 'anywhere', 'at', 'what', 'namely', 'four', 'once', \"'d\", 'becoming', 'top', '‘ll', 'whose', 'either', 'themselves', 'put', 'alone', 'under', 'six', '’m', 'n‘t', 'such', 'empty', 'forty', 'does', 'eight', 'seeming', 'often', '’ll', 'been', 'however', 'cannot', 'anyhow', 'nothing', 'seem', 'on', 'or', 'mostly', 'take', 'should', 'without', 'who', 'hers', 'latter', 'back', 'made', 'seemed', 'to', 'an', 'name', 'hereafter', 'no', 'were', 'afterwards', 'much', 'mine', 'few', 'every', 'five', 'twenty', 'became', 'why', 'make', 'further', 'they', 'their', 'neither', 'whither', 'has', 'her', 'meanwhile', 'across', 'a', 'amongst', 'from', 'done', 'unless', 'thereby', 'when', 'less', 'after', 'one', \"n't\", 'many', 'that', 'say', 'hereby', '‘s', 'keep', 'indeed', 'fifteen', 'thereupon', 'into', 'within', 'except', 'is', 'above', 'because', 'was', 'move', 'yet', 'regarding', 'eleven', 'former', 'would', 'itself', 'get', 'had', 'ten', 'hereupon', 'toward', \"'s\", 'during', 'so', 'well', 'both', 'them', 'thence', 'other', 'for', 'full', 'becomes', 'something', 'everywhere', 'already', '‘ve', 'about', 'again', 'last', 'nobody', 'than', 'against', 'where', 'front', 'whether', 'hundred', 'least', 'together', 'be', 'if', 'here', 'i', 'its', 'my', 'ourselves', 'upon', 'call', 'ours', 'almost', 'and', \"'re\", 'more', 'anyway', 'could', 'therefore', 'side', 'are', 'ever', 'all', 'below', 'none', 'can', 'whoever', 'everyone', 'must', '‘d', 'per', 'whereby', 'towards', 'same', 'whenever', 'which', 'being', 'please', 'nine'}\n"
     ]
    }
   ],
   "source": [
    "print(en_stop)"
   ]
  },
  {
   "cell_type": "markdown",
   "metadata": {},
   "source": [
    "## Nettoyage des tweets"
   ]
  },
  {
   "cell_type": "markdown",
   "metadata": {},
   "source": [
    "#### Final Pre Processing"
   ]
  },
  {
   "cell_type": "code",
   "execution_count": 12,
   "metadata": {},
   "outputs": [],
   "source": [
    "train_df[\"text_clean\"] = train_df[\"text\"].apply(lambda x: final_preprocess(x))\n",
    "test_df[\"text_clean\"] = test_df[\"text\"].apply(lambda x: final_preprocess(x))"
   ]
  },
  {
   "cell_type": "code",
   "execution_count": 13,
   "metadata": {},
   "outputs": [
    {
     "data": {
      "text/html": [
       "<div>\n",
       "<style scoped>\n",
       "    .dataframe tbody tr th:only-of-type {\n",
       "        vertical-align: middle;\n",
       "    }\n",
       "\n",
       "    .dataframe tbody tr th {\n",
       "        vertical-align: top;\n",
       "    }\n",
       "\n",
       "    .dataframe thead th {\n",
       "        text-align: right;\n",
       "    }\n",
       "</style>\n",
       "<table border=\"1\" class=\"dataframe\">\n",
       "  <thead>\n",
       "    <tr style=\"text-align: right;\">\n",
       "      <th></th>\n",
       "      <th>id</th>\n",
       "      <th>text</th>\n",
       "      <th>target</th>\n",
       "      <th>text_clean</th>\n",
       "    </tr>\n",
       "  </thead>\n",
       "  <tbody>\n",
       "    <tr>\n",
       "      <th>0</th>\n",
       "      <td>1</td>\n",
       "      <td>Our Deeds are the Reason of this #earthquake May ALLAH Forgive us all</td>\n",
       "      <td>1</td>\n",
       "      <td>deed reason earthquake allah forgive u</td>\n",
       "    </tr>\n",
       "    <tr>\n",
       "      <th>1</th>\n",
       "      <td>4</td>\n",
       "      <td>Forest fire near La Ronge Sask. Canada</td>\n",
       "      <td>1</td>\n",
       "      <td>forest fire near la ronge sask canada</td>\n",
       "    </tr>\n",
       "    <tr>\n",
       "      <th>2</th>\n",
       "      <td>5</td>\n",
       "      <td>All residents asked to 'shelter in place' are being notified by officers. No other evacuation or shelter in place orders are expected</td>\n",
       "      <td>1</td>\n",
       "      <td>resident asked shelter place notified officer evacuation shelter place order expected</td>\n",
       "    </tr>\n",
       "    <tr>\n",
       "      <th>3</th>\n",
       "      <td>6</td>\n",
       "      <td>13,000 people receive #wildfires evacuation orders in California</td>\n",
       "      <td>1</td>\n",
       "      <td>people receive wildfire evacuation order california</td>\n",
       "    </tr>\n",
       "    <tr>\n",
       "      <th>4</th>\n",
       "      <td>7</td>\n",
       "      <td>Just got sent this photo from Ruby #Alaska as smoke from #wildfires pours into a school</td>\n",
       "      <td>1</td>\n",
       "      <td>got sent photo ruby alaska smoke wildfire pours school</td>\n",
       "    </tr>\n",
       "  </tbody>\n",
       "</table>\n",
       "</div>"
      ],
      "text/plain": [
       "   id  \\\n",
       "0   1   \n",
       "1   4   \n",
       "2   5   \n",
       "3   6   \n",
       "4   7   \n",
       "\n",
       "                                                                                                                                    text  \\\n",
       "0                                                                  Our Deeds are the Reason of this #earthquake May ALLAH Forgive us all   \n",
       "1                                                                                                 Forest fire near La Ronge Sask. Canada   \n",
       "2  All residents asked to 'shelter in place' are being notified by officers. No other evacuation or shelter in place orders are expected   \n",
       "3                                                                      13,000 people receive #wildfires evacuation orders in California    \n",
       "4                                               Just got sent this photo from Ruby #Alaska as smoke from #wildfires pours into a school    \n",
       "\n",
       "   target  \\\n",
       "0       1   \n",
       "1       1   \n",
       "2       1   \n",
       "3       1   \n",
       "4       1   \n",
       "\n",
       "                                                                              text_clean  \n",
       "0                                                 deed reason earthquake allah forgive u  \n",
       "1                                                  forest fire near la ronge sask canada  \n",
       "2  resident asked shelter place notified officer evacuation shelter place order expected  \n",
       "3                                    people receive wildfire evacuation order california  \n",
       "4                                 got sent photo ruby alaska smoke wildfire pours school  "
      ]
     },
     "execution_count": 13,
     "metadata": {},
     "output_type": "execute_result"
    }
   ],
   "source": [
    "pd.set_option('display.max_colwidth', None)\n",
    "train_df.head()"
   ]
  },
  {
   "cell_type": "code",
   "execution_count": 14,
   "metadata": {},
   "outputs": [
    {
     "data": {
      "text/html": [
       "<div>\n",
       "<style scoped>\n",
       "    .dataframe tbody tr th:only-of-type {\n",
       "        vertical-align: middle;\n",
       "    }\n",
       "\n",
       "    .dataframe tbody tr th {\n",
       "        vertical-align: top;\n",
       "    }\n",
       "\n",
       "    .dataframe thead th {\n",
       "        text-align: right;\n",
       "    }\n",
       "</style>\n",
       "<table border=\"1\" class=\"dataframe\">\n",
       "  <thead>\n",
       "    <tr style=\"text-align: right;\">\n",
       "      <th></th>\n",
       "      <th>id</th>\n",
       "      <th>text</th>\n",
       "      <th>text_clean</th>\n",
       "    </tr>\n",
       "  </thead>\n",
       "  <tbody>\n",
       "    <tr>\n",
       "      <th>0</th>\n",
       "      <td>0</td>\n",
       "      <td>Just happened a terrible car crash</td>\n",
       "      <td>happened terrible car crash</td>\n",
       "    </tr>\n",
       "    <tr>\n",
       "      <th>1</th>\n",
       "      <td>2</td>\n",
       "      <td>Heard about #earthquake is different cities, stay safe everyone.</td>\n",
       "      <td>heard earthquake different city stay safe</td>\n",
       "    </tr>\n",
       "    <tr>\n",
       "      <th>2</th>\n",
       "      <td>3</td>\n",
       "      <td>there is a forest fire at spot pond, geese are fleeing across the street, I cannot save them all</td>\n",
       "      <td>forest fire spot pond goose fleeing street save</td>\n",
       "    </tr>\n",
       "    <tr>\n",
       "      <th>3</th>\n",
       "      <td>9</td>\n",
       "      <td>Apocalypse lighting. #Spokane #wildfires</td>\n",
       "      <td>apocalypse lighting spokane wildfire</td>\n",
       "    </tr>\n",
       "    <tr>\n",
       "      <th>4</th>\n",
       "      <td>11</td>\n",
       "      <td>Typhoon Soudelor kills 28 in China and Taiwan</td>\n",
       "      <td>typhoon soudelor kill china taiwan</td>\n",
       "    </tr>\n",
       "  </tbody>\n",
       "</table>\n",
       "</div>"
      ],
      "text/plain": [
       "   id  \\\n",
       "0   0   \n",
       "1   2   \n",
       "2   3   \n",
       "3   9   \n",
       "4  11   \n",
       "\n",
       "                                                                                               text  \\\n",
       "0                                                                Just happened a terrible car crash   \n",
       "1                                  Heard about #earthquake is different cities, stay safe everyone.   \n",
       "2  there is a forest fire at spot pond, geese are fleeing across the street, I cannot save them all   \n",
       "3                                                          Apocalypse lighting. #Spokane #wildfires   \n",
       "4                                                     Typhoon Soudelor kills 28 in China and Taiwan   \n",
       "\n",
       "                                        text_clean  \n",
       "0                      happened terrible car crash  \n",
       "1        heard earthquake different city stay safe  \n",
       "2  forest fire spot pond goose fleeing street save  \n",
       "3             apocalypse lighting spokane wildfire  \n",
       "4               typhoon soudelor kill china taiwan  "
      ]
     },
     "execution_count": 14,
     "metadata": {},
     "output_type": "execute_result"
    }
   ],
   "source": [
    "test_df.head()"
   ]
  },
  {
   "cell_type": "markdown",
   "metadata": {},
   "source": [
    "## Extraction de données vectoriels"
   ]
  },
  {
   "cell_type": "markdown",
   "metadata": {},
   "source": [
    "### Spliting the training dataset into train and test"
   ]
  },
  {
   "cell_type": "code",
   "execution_count": 15,
   "metadata": {},
   "outputs": [],
   "source": [
    "from sklearn.model_selection import train_test_split\n",
    "\n",
    "X_train, X_test, y_train, y_test = train_test_split(train_df[\"text_clean\"],train_df[\"target\"],test_size=0.2)"
   ]
  },
  {
   "cell_type": "markdown",
   "metadata": {},
   "source": [
    "### Extraction des vecteurs de textes en données numériques "
   ]
  },
  {
   "cell_type": "code",
   "execution_count": 16,
   "metadata": {},
   "outputs": [],
   "source": [
    "from sklearn.feature_extraction.text import TfidfVectorizer\n",
    "\n",
    "tfidf_vectorizer = TfidfVectorizer()\n",
    "X_train_vectors_tfidf = tfidf_vectorizer.fit_transform(X_train)\n",
    "X_test_vectors_tfidf = tfidf_vectorizer.transform(X_test)"
   ]
  },
  {
   "cell_type": "code",
   "execution_count": 17,
   "metadata": {},
   "outputs": [
    {
     "data": {
      "text/plain": [
       "(6090, 12899)"
      ]
     },
     "execution_count": 17,
     "metadata": {},
     "output_type": "execute_result"
    }
   ],
   "source": [
    "X_train_vectors_tfidf.shape"
   ]
  },
  {
   "cell_type": "code",
   "execution_count": 18,
   "metadata": {},
   "outputs": [
    {
     "data": {
      "text/plain": [
       "(1523, 12899)"
      ]
     },
     "execution_count": 18,
     "metadata": {},
     "output_type": "execute_result"
    }
   ],
   "source": [
    "X_test_vectors_tfidf.shape"
   ]
  },
  {
   "cell_type": "code",
   "execution_count": 19,
   "metadata": {},
   "outputs": [
    {
     "name": "stdout",
     "output_type": "stream",
     "text": [
      "  (0, 5606)\t0.3164515026061675\n",
      "  (0, 11511)\t0.23940561316494596\n",
      "  (0, 4987)\t0.4295596768205738\n",
      "  (0, 9287)\t0.31000948336081574\n",
      "  (0, 1830)\t0.34022917368747096\n",
      "  (0, 8319)\t0.33254379067497797\n",
      "  (0, 11324)\t0.3056714177787561\n",
      "  (0, 1345)\t0.395001920911859\n",
      "  (0, 2604)\t0.29345051822088003\n",
      "  (1, 7546)\t0.42700051782433956\n",
      "  (1, 11733)\t0.3230018132090295\n",
      "  (1, 581)\t0.2701339622180889\n",
      "  (1, 11843)\t0.31350369790594196\n",
      "  (1, 1320)\t0.24476590817828237\n",
      "  (1, 3042)\t0.30745310791128916\n",
      "  (1, 1322)\t0.27757384671562657\n",
      "  (1, 10995)\t0.24476590817828237\n",
      "  (1, 8627)\t0.30745310791128916\n",
      "  (1, 8104)\t0.2637062240109971\n",
      "  (1, 12829)\t0.2943122841356311\n",
      "  (2, 12641)\t0.35733956391626975\n",
      "  (2, 1004)\t0.3768606805954388\n",
      "  (2, 3027)\t0.35902133443982565\n",
      "  (2, 11609)\t0.36075331441747804\n",
      "  (2, 6616)\t0.2421226644152453\n",
      "  :\t:\n",
      "  (6087, 1119)\t0.5809753332401437\n",
      "  (6087, 7424)\t0.4512165030604754\n",
      "  (6087, 10600)\t0.44315605407323255\n",
      "  (6087, 2624)\t0.42368930459693965\n",
      "  (6087, 4943)\t0.2880475905831947\n",
      "  (6088, 1627)\t0.3467004971557102\n",
      "  (6088, 5744)\t0.3467004971557102\n",
      "  (6088, 3067)\t0.3467004971557102\n",
      "  (6088, 6736)\t0.3467004971557102\n",
      "  (6088, 5224)\t0.3311181444007542\n",
      "  (6088, 6785)\t0.26225937568496105\n",
      "  (6088, 11455)\t0.260181528547276\n",
      "  (6088, 4669)\t0.2644560198586694\n",
      "  (6088, 1491)\t0.27476562230528473\n",
      "  (6088, 10327)\t0.24262793291314882\n",
      "  (6088, 4087)\t0.26225937568496105\n",
      "  (6089, 8314)\t0.41129482643611964\n",
      "  (6089, 8643)\t0.40027480030135737\n",
      "  (6089, 2953)\t0.31519533992981497\n",
      "  (6089, 4336)\t0.3613365443392785\n",
      "  (6089, 3283)\t0.3398382017076297\n",
      "  (6089, 1832)\t0.2917640585677004\n",
      "  (6089, 11435)\t0.27137554616575743\n",
      "  (6089, 6373)\t0.3249099499680674\n",
      "  (6089, 1539)\t0.2467326843879427\n"
     ]
    }
   ],
   "source": [
    "print(X_train_vectors_tfidf )"
   ]
  },
  {
   "cell_type": "markdown",
   "metadata": {},
   "source": [
    "### Entrainement du modèle MultinomialNB"
   ]
  },
  {
   "cell_type": "code",
   "execution_count": 20,
   "metadata": {},
   "outputs": [
    {
     "data": {
      "text/plain": [
       "MultinomialNB()"
      ]
     },
     "execution_count": 20,
     "metadata": {},
     "output_type": "execute_result"
    }
   ],
   "source": [
    "from sklearn.naive_bayes import MultinomialNB\n",
    "\n",
    "model = MultinomialNB()\n",
    "model.fit(X_train_vectors_tfidf, y_train)  "
   ]
  },
  {
   "cell_type": "markdown",
   "metadata": {},
   "source": [
    "### Evaluation du modèle dans le train set"
   ]
  },
  {
   "cell_type": "code",
   "execution_count": 21,
   "metadata": {},
   "outputs": [
    {
     "name": "stdout",
     "output_type": "stream",
     "text": [
      "0.804333552199606\n"
     ]
    }
   ],
   "source": [
    "y_pred = model.predict(X_test_vectors_tfidf)\n",
    "score = model.score(X_test_vectors_tfidf, y_test)\n",
    "print(score)"
   ]
  },
  {
   "cell_type": "code",
   "execution_count": 22,
   "metadata": {},
   "outputs": [
    {
     "name": "stdout",
     "output_type": "stream",
     "text": [
      "              precision    recall  f1-score   support\n",
      "\n",
      "           0       0.80      0.88      0.84       884\n",
      "           1       0.81      0.70      0.75       639\n",
      "\n",
      "    accuracy                           0.80      1523\n",
      "   macro avg       0.81      0.79      0.79      1523\n",
      "weighted avg       0.80      0.80      0.80      1523\n",
      "\n"
     ]
    }
   ],
   "source": [
    "from sklearn.metrics import classification_report\n",
    "\n",
    "print(classification_report(y_test,y_pred))"
   ]
  },
  {
   "cell_type": "markdown",
   "metadata": {},
   "source": [
    "### Résultat final pour la prédiction des tweets"
   ]
  },
  {
   "cell_type": "code",
   "execution_count": 23,
   "metadata": {},
   "outputs": [],
   "source": [
    "X_test= test_df['text_clean']\n",
    "\n",
    "#Convertir les mots en donnée numérique \n",
    "X_vector = tfidf_vectorizer.transform(X_test)\n",
    "y_pred = model.predict(X_vector)\n",
    "test_df['target'] = y_pred\n",
    "final_df = test_df[['text_clean','target']]"
   ]
  },
  {
   "cell_type": "code",
   "execution_count": 24,
   "metadata": {},
   "outputs": [
    {
     "data": {
      "text/html": [
       "<div>\n",
       "<style scoped>\n",
       "    .dataframe tbody tr th:only-of-type {\n",
       "        vertical-align: middle;\n",
       "    }\n",
       "\n",
       "    .dataframe tbody tr th {\n",
       "        vertical-align: top;\n",
       "    }\n",
       "\n",
       "    .dataframe thead th {\n",
       "        text-align: right;\n",
       "    }\n",
       "</style>\n",
       "<table border=\"1\" class=\"dataframe\">\n",
       "  <thead>\n",
       "    <tr style=\"text-align: right;\">\n",
       "      <th></th>\n",
       "      <th>text_clean</th>\n",
       "      <th>target</th>\n",
       "    </tr>\n",
       "  </thead>\n",
       "  <tbody>\n",
       "    <tr>\n",
       "      <th>0</th>\n",
       "      <td>happened terrible car crash</td>\n",
       "      <td>1</td>\n",
       "    </tr>\n",
       "    <tr>\n",
       "      <th>1</th>\n",
       "      <td>heard earthquake different city stay safe</td>\n",
       "      <td>1</td>\n",
       "    </tr>\n",
       "    <tr>\n",
       "      <th>2</th>\n",
       "      <td>forest fire spot pond goose fleeing street save</td>\n",
       "      <td>1</td>\n",
       "    </tr>\n",
       "    <tr>\n",
       "      <th>3</th>\n",
       "      <td>apocalypse lighting spokane wildfire</td>\n",
       "      <td>1</td>\n",
       "    </tr>\n",
       "    <tr>\n",
       "      <th>4</th>\n",
       "      <td>typhoon soudelor kill china taiwan</td>\n",
       "      <td>1</td>\n",
       "    </tr>\n",
       "  </tbody>\n",
       "</table>\n",
       "</div>"
      ],
      "text/plain": [
       "                                        text_clean  target\n",
       "0                      happened terrible car crash       1\n",
       "1        heard earthquake different city stay safe       1\n",
       "2  forest fire spot pond goose fleeing street save       1\n",
       "3             apocalypse lighting spokane wildfire       1\n",
       "4               typhoon soudelor kill china taiwan       1"
      ]
     },
     "execution_count": 24,
     "metadata": {},
     "output_type": "execute_result"
    }
   ],
   "source": [
    "final_df.head()"
   ]
  },
  {
   "cell_type": "code",
   "execution_count": 25,
   "metadata": {},
   "outputs": [
    {
     "data": {
      "text/plain": [
       "target\n",
       "0    2120\n",
       "1    1143\n",
       "dtype: int64"
      ]
     },
     "execution_count": 25,
     "metadata": {},
     "output_type": "execute_result"
    }
   ],
   "source": [
    "final_df.groupby('target').size()"
   ]
  },
  {
   "cell_type": "code",
   "execution_count": 26,
   "metadata": {},
   "outputs": [
    {
     "name": "stdout",
     "output_type": "stream",
     "text": [
      "0    2120\n",
      "1    1143\n",
      "Name: target, dtype: int64\n"
     ]
    },
    {
     "name": "stderr",
     "output_type": "stream",
     "text": [
      "C:\\Users\\vince\\AppData\\Local\\Programs\\Python\\Python39\\lib\\site-packages\\seaborn\\_decorators.py:36: FutureWarning: Pass the following variables as keyword args: x, y. From version 0.12, the only valid positional argument will be `data`, and passing other arguments without an explicit keyword will result in an error or misinterpretation.\n",
      "  warnings.warn(\n"
     ]
    },
    {
     "data": {
      "text/plain": [
       "<AxesSubplot:ylabel='target'>"
      ]
     },
     "execution_count": 26,
     "metadata": {},
     "output_type": "execute_result"
    },
    {
     "data": {
      "image/png": "[encoded data removed]",
      "text/plain": [
       "<Figure size 432x288 with 1 Axes>"
      ]
     },
     "metadata": {
      "needs_background": "light"
     },
     "output_type": "display_data"
    }
   ],
   "source": [
    "import seaborn as sns\n",
    "\n",
    "x=final_df['target'].value_counts()\n",
    "print(x)\n",
    "sns.barplot(x.index,x)"
   ]
  },
  {
   "cell_type": "code",
   "execution_count": 27,
   "metadata": {},
   "outputs": [
    {
     "name": "stdout",
     "output_type": "stream",
     "text": [
      "0    4342\n",
      "1    3271\n",
      "Name: target, dtype: int64\n"
     ]
    },
    {
     "name": "stderr",
     "output_type": "stream",
     "text": [
      "C:\\Users\\vince\\AppData\\Local\\Programs\\Python\\Python39\\lib\\site-packages\\seaborn\\_decorators.py:36: FutureWarning: Pass the following variables as keyword args: x, y. From version 0.12, the only valid positional argument will be `data`, and passing other arguments without an explicit keyword will result in an error or misinterpretation.\n",
      "  warnings.warn(\n"
     ]
    },
    {
     "data": {
      "text/plain": [
       "<AxesSubplot:ylabel='target'>"
      ]
     },
     "execution_count": 27,
     "metadata": {},
     "output_type": "execute_result"
    },
    {
     "data": {
      "image/png": "[encoded data removed]",
      "text/plain": [
       "<Figure size 432x288 with 1 Axes>"
      ]
     },
     "metadata": {
      "needs_background": "light"
     },
     "output_type": "display_data"
    }
   ],
   "source": [
    "x=train_df['target'].value_counts()\n",
    "print(x)\n",
    "sns.barplot(x.index,x)"
   ]
  },
  {
   "cell_type": "code",
   "execution_count": 28,
   "metadata": {},
   "outputs": [
    {
     "name": "stdout",
     "output_type": "stream",
     "text": [
      "9.252843394575677\n",
      "8.550943396226415\n"
     ]
    },
    {
     "name": "stderr",
     "output_type": "stream",
     "text": [
      "C:\\Users\\vince\\AppData\\Local\\Temp\\ipykernel_5096\\3691419990.py:1: SettingWithCopyWarning: \n",
      "A value is trying to be set on a copy of a slice from a DataFrame.\n",
      "Try using .loc[row_indexer,col_indexer] = value instead\n",
      "\n",
      "See the caveats in the documentation: https://pandas.pydata.org/pandas-docs/stable/user_guide/indexing.html#returning-a-view-versus-a-copy\n",
      "  final_df['word_count'] = final_df['text_clean'].apply(lambda x: len(str(x).split()))\n"
     ]
    }
   ],
   "source": [
    "final_df['word_count'] = final_df['text_clean'].apply(lambda x: len(str(x).split()))\n",
    "print(final_df[final_df['target']==1]['word_count'].mean()) #Disaster tweets\n",
    "print(final_df[final_df['target']==0]['word_count'].mean()) #Non-Disaster tweets"
   ]
  },
  {
   "cell_type": "code",
   "execution_count": 29,
   "metadata": {},
   "outputs": [
    {
     "data": {
      "image/png": "[encoded data removed]",
      "text/plain": [
       "<Figure size 720x288 with 2 Axes>"
      ]
     },
     "metadata": {
      "needs_background": "light"
     },
     "output_type": "display_data"
    }
   ],
   "source": [
    "from matplotlib import pyplot as plt\n",
    "\n",
    "# PLOTTING WORD-COUNT\n",
    "fig,(ax1,ax2)=plt.subplots(1,2,figsize=(10,4))\n",
    "train_words=final_df[final_df['target']==1]['word_count']\n",
    "ax1.hist(train_words,color='#ff2d49')\n",
    "ax1.set_title('Disaster tweets')\n",
    "train_words=final_df[final_df['target']==0]['word_count']\n",
    "ax2.hist(train_words,color='#9ACD32')\n",
    "ax2.set_title('Non-disaster tweets')\n",
    "fig.suptitle('Mots par tweets')\n",
    "plt.show()"
   ]
  },
  {
   "cell_type": "code",
   "execution_count": 30,
   "metadata": {},
   "outputs": [],
   "source": [
    "final_df.to_csv(\"final_df.csv\")"
   ]
  },
  {
   "cell_type": "code",
   "execution_count": 31,
   "metadata": {},
   "outputs": [],
   "source": [
    "sample_submission = final_df.drop(['text_clean','word_count'],axis=1)"
   ]
  },
  {
   "cell_type": "code",
   "execution_count": 32,
   "metadata": {},
   "outputs": [
    {
     "data": {
      "text/html": [
       "<div>\n",
       "<style scoped>\n",
       "    .dataframe tbody tr th:only-of-type {\n",
       "        vertical-align: middle;\n",
       "    }\n",
       "\n",
       "    .dataframe tbody tr th {\n",
       "        vertical-align: top;\n",
       "    }\n",
       "\n",
       "    .dataframe thead th {\n",
       "        text-align: right;\n",
       "    }\n",
       "</style>\n",
       "<table border=\"1\" class=\"dataframe\">\n",
       "  <thead>\n",
       "    <tr style=\"text-align: right;\">\n",
       "      <th></th>\n",
       "      <th>target</th>\n",
       "    </tr>\n",
       "  </thead>\n",
       "  <tbody>\n",
       "    <tr>\n",
       "      <th>0</th>\n",
       "      <td>1</td>\n",
       "    </tr>\n",
       "    <tr>\n",
       "      <th>1</th>\n",
       "      <td>1</td>\n",
       "    </tr>\n",
       "    <tr>\n",
       "      <th>2</th>\n",
       "      <td>1</td>\n",
       "    </tr>\n",
       "    <tr>\n",
       "      <th>3</th>\n",
       "      <td>1</td>\n",
       "    </tr>\n",
       "    <tr>\n",
       "      <th>4</th>\n",
       "      <td>1</td>\n",
       "    </tr>\n",
       "    <tr>\n",
       "      <th>...</th>\n",
       "      <td>...</td>\n",
       "    </tr>\n",
       "    <tr>\n",
       "      <th>3258</th>\n",
       "      <td>1</td>\n",
       "    </tr>\n",
       "    <tr>\n",
       "      <th>3259</th>\n",
       "      <td>1</td>\n",
       "    </tr>\n",
       "    <tr>\n",
       "      <th>3260</th>\n",
       "      <td>1</td>\n",
       "    </tr>\n",
       "    <tr>\n",
       "      <th>3261</th>\n",
       "      <td>1</td>\n",
       "    </tr>\n",
       "    <tr>\n",
       "      <th>3262</th>\n",
       "      <td>1</td>\n",
       "    </tr>\n",
       "  </tbody>\n",
       "</table>\n",
       "<p>3263 rows × 1 columns</p>\n",
       "</div>"
      ],
      "text/plain": [
       "      target\n",
       "0          1\n",
       "1          1\n",
       "2          1\n",
       "3          1\n",
       "4          1\n",
       "...      ...\n",
       "3258       1\n",
       "3259       1\n",
       "3260       1\n",
       "3261       1\n",
       "3262       1\n",
       "\n",
       "[3263 rows x 1 columns]"
      ]
     },
     "execution_count": 32,
     "metadata": {},
     "output_type": "execute_result"
    }
   ],
   "source": [
    "sample_submission"
   ]
  },
  {
   "cell_type": "code",
   "execution_count": 36,
   "metadata": {},
   "outputs": [],
   "source": [
    "output = pd.DataFrame({'id': test_df['id'], 'target': sample_submission[\"target\"]})"
   ]
  },
  {
   "cell_type": "code",
   "execution_count": 34,
   "metadata": {},
   "outputs": [
    {
     "data": {
      "text/html": [
       "<div>\n",
       "<style scoped>\n",
       "    .dataframe tbody tr th:only-of-type {\n",
       "        vertical-align: middle;\n",
       "    }\n",
       "\n",
       "    .dataframe tbody tr th {\n",
       "        vertical-align: top;\n",
       "    }\n",
       "\n",
       "    .dataframe thead th {\n",
       "        text-align: right;\n",
       "    }\n",
       "</style>\n",
       "<table border=\"1\" class=\"dataframe\">\n",
       "  <thead>\n",
       "    <tr style=\"text-align: right;\">\n",
       "      <th></th>\n",
       "      <th>id</th>\n",
       "      <th>text</th>\n",
       "      <th>text_clean</th>\n",
       "      <th>target</th>\n",
       "    </tr>\n",
       "  </thead>\n",
       "  <tbody>\n",
       "    <tr>\n",
       "      <th>0</th>\n",
       "      <td>0</td>\n",
       "      <td>Just happened a terrible car crash</td>\n",
       "      <td>happened terrible car crash</td>\n",
       "      <td>1</td>\n",
       "    </tr>\n",
       "    <tr>\n",
       "      <th>1</th>\n",
       "      <td>2</td>\n",
       "      <td>Heard about #earthquake is different cities, stay safe everyone.</td>\n",
       "      <td>heard earthquake different city stay safe</td>\n",
       "      <td>1</td>\n",
       "    </tr>\n",
       "    <tr>\n",
       "      <th>2</th>\n",
       "      <td>3</td>\n",
       "      <td>there is a forest fire at spot pond, geese are fleeing across the street, I cannot save them all</td>\n",
       "      <td>forest fire spot pond goose fleeing street save</td>\n",
       "      <td>1</td>\n",
       "    </tr>\n",
       "    <tr>\n",
       "      <th>3</th>\n",
       "      <td>9</td>\n",
       "      <td>Apocalypse lighting. #Spokane #wildfires</td>\n",
       "      <td>apocalypse lighting spokane wildfire</td>\n",
       "      <td>1</td>\n",
       "    </tr>\n",
       "    <tr>\n",
       "      <th>4</th>\n",
       "      <td>11</td>\n",
       "      <td>Typhoon Soudelor kills 28 in China and Taiwan</td>\n",
       "      <td>typhoon soudelor kill china taiwan</td>\n",
       "      <td>1</td>\n",
       "    </tr>\n",
       "    <tr>\n",
       "      <th>...</th>\n",
       "      <td>...</td>\n",
       "      <td>...</td>\n",
       "      <td>...</td>\n",
       "      <td>...</td>\n",
       "    </tr>\n",
       "    <tr>\n",
       "      <th>3258</th>\n",
       "      <td>10861</td>\n",
       "      <td>EARTHQUAKE SAFETY LOS ANGELES ÛÒ SAFETY FASTENERS XrWn</td>\n",
       "      <td>earthquake safety los angeles uo safety fastener xrwn</td>\n",
       "      <td>1</td>\n",
       "    </tr>\n",
       "    <tr>\n",
       "      <th>3259</th>\n",
       "      <td>10865</td>\n",
       "      <td>Storm in RI worse than last hurricane. My city&amp;amp;3others hardest hit. My yard looks like it was bombed. Around 20000K still without power</td>\n",
       "      <td>storm ri worse hurricane cityothers hardest hit yard look like wa bombed k power</td>\n",
       "      <td>1</td>\n",
       "    </tr>\n",
       "    <tr>\n",
       "      <th>3260</th>\n",
       "      <td>10868</td>\n",
       "      <td>Green Line derailment in Chicago http://t.co/UtbXLcBIuY</td>\n",
       "      <td>green line derailment chicago</td>\n",
       "      <td>1</td>\n",
       "    </tr>\n",
       "    <tr>\n",
       "      <th>3261</th>\n",
       "      <td>10874</td>\n",
       "      <td>MEG issues Hazardous Weather Outlook (HWO) http://t.co/3X6RBQJHn3</td>\n",
       "      <td>meg issue hazardous weather outlook hwo</td>\n",
       "      <td>1</td>\n",
       "    </tr>\n",
       "    <tr>\n",
       "      <th>3262</th>\n",
       "      <td>10875</td>\n",
       "      <td>#CityofCalgary has activated its Municipal Emergency Plan. #yycstorm</td>\n",
       "      <td>cityofcalgary ha activated municipal emergency plan yycstorm</td>\n",
       "      <td>1</td>\n",
       "    </tr>\n",
       "  </tbody>\n",
       "</table>\n",
       "<p>3263 rows × 4 columns</p>\n",
       "</div>"
      ],
      "text/plain": [
       "         id  \\\n",
       "0         0   \n",
       "1         2   \n",
       "2         3   \n",
       "3         9   \n",
       "4        11   \n",
       "...     ...   \n",
       "3258  10861   \n",
       "3259  10865   \n",
       "3260  10868   \n",
       "3261  10874   \n",
       "3262  10875   \n",
       "\n",
       "                                                                                                                                             text  \\\n",
       "0                                                                                                              Just happened a terrible car crash   \n",
       "1                                                                                Heard about #earthquake is different cities, stay safe everyone.   \n",
       "2                                                there is a forest fire at spot pond, geese are fleeing across the street, I cannot save them all   \n",
       "3                                                                                                        Apocalypse lighting. #Spokane #wildfires   \n",
       "4                                                                                                   Typhoon Soudelor kills 28 in China and Taiwan   \n",
       "...                                                                                                                                           ...   \n",
       "3258                                                                                      EARTHQUAKE SAFETY LOS ANGELES ÛÒ SAFETY FASTENERS XrWn   \n",
       "3259  Storm in RI worse than last hurricane. My city&amp;3others hardest hit. My yard looks like it was bombed. Around 20000K still without power   \n",
       "3260                                                                                      Green Line derailment in Chicago http://t.co/UtbXLcBIuY   \n",
       "3261                                                                            MEG issues Hazardous Weather Outlook (HWO) http://t.co/3X6RBQJHn3   \n",
       "3262                                                                         #CityofCalgary has activated its Municipal Emergency Plan. #yycstorm   \n",
       "\n",
       "                                                                            text_clean  \\\n",
       "0                                                          happened terrible car crash   \n",
       "1                                            heard earthquake different city stay safe   \n",
       "2                                      forest fire spot pond goose fleeing street save   \n",
       "3                                                 apocalypse lighting spokane wildfire   \n",
       "4                                                   typhoon soudelor kill china taiwan   \n",
       "...                                                                                ...   \n",
       "3258                             earthquake safety los angeles uo safety fastener xrwn   \n",
       "3259  storm ri worse hurricane cityothers hardest hit yard look like wa bombed k power   \n",
       "3260                                                     green line derailment chicago   \n",
       "3261                                           meg issue hazardous weather outlook hwo   \n",
       "3262                      cityofcalgary ha activated municipal emergency plan yycstorm   \n",
       "\n",
       "      target  \n",
       "0          1  \n",
       "1          1  \n",
       "2          1  \n",
       "3          1  \n",
       "4          1  \n",
       "...      ...  \n",
       "3258       1  \n",
       "3259       1  \n",
       "3260       1  \n",
       "3261       1  \n",
       "3262       1  \n",
       "\n",
       "[3263 rows x 4 columns]"
      ]
     },
     "execution_count": 34,
     "metadata": {},
     "output_type": "execute_result"
    }
   ],
   "source": [
    "test_df"
   ]
  },
  {
   "cell_type": "code",
   "execution_count": 37,
   "metadata": {},
   "outputs": [],
   "source": [
    "output.to_csv(\"submission.csv\",index=False)"
   ]
  }
 ],
 "metadata": {
  "interpreter": {
   "hash": "b7fcb2a916905a12e4c273a8d3b8170cbebff15f2464992c600141e407bdcc80"
  },
  "kernelspec": {
   "display_name": "Python 3.9.0 64-bit",
   "language": "python",
   "name": "python3"
  },
  "language_info": {
   "codemirror_mode": {
    "name": "ipython",
    "version": 3
   },
   "file_extension": ".py",
   "mimetype": "text/x-python",
   "name": "python",
   "nbconvert_exporter": "python",
   "pygments_lexer": "ipython3",
   "version": "3.9.0"
  },
  "orig_nbformat": 4
 },
 "nbformat": 4,
 "nbformat_minor": 2
}
